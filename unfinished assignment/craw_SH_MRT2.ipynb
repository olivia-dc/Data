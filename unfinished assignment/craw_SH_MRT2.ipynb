{
 "cells": [
  {
   "cell_type": "code",
   "execution_count": 51,
   "metadata": {
    "scrolled": true
   },
   "outputs": [
    {
     "name": "stdout",
     "output_type": "stream",
     "text": [
      "[('0', '121.513188', '31.334451'), ('1', '121.513177', '31.327743'), ('2', '121.514701', '31.318613'), ('3', '121.520633', '31.308746'), ('4', '121.520633', '31.307238'), ('5', '121.516743', '31.295352'), ('6', '121.507102', '31.288675'), ('7', '121.50817', '31.280779'), ('8', '121.500859', '31.274187'), ('9', '121.495445', '31.264649'), ('10', '121.490774', '31.257732'), ('11', '121.488783', '31.250088'), ('12', '121.491494', '31.243358'), ('13', '121.499014', '31.233104'), ('14', '121.489485', '31.224674'), ('15', '121.48116', '31.222033'), ('16', '121.465215', '31.221821'), ('17', '121.45042', '31.213719'), ('18', '121.440977', '31.208554'), ('19', '121.428032', '31.20317'), ('20', '121.418434', '31.202693'), ('21', '121.410671', '31.204634'), ('22', '121.398444', '31.205074'), ('23', '121.386467', '31.199878'), ('24', '121.37699', '31.182886'), ('25', '121.37097', '31.175533'), ('26', '121.361249', '31.171619')]\n"
     ]
    }
   ],
   "source": [
    "import requests \n",
    "import time\n",
    "from bs4 import BeautifulSoup as bs\n",
    "from urllib.error import URLError\n",
    "import re\n",
    "import networkx as nx\n",
    "import matplotlib.pyplot as plt\n",
    "from collections import defaultdict\n",
    "plt.rcParams['font.sans-serif']=['SimHei']\n",
    "plt.rcParams['axes.unicode_minus']=False\n",
    "url = 'http://sh.bendibao.com/ditie/linemap.shtml'\n",
    "response = requests.get(url)\n",
    "#get each line with each dot longitude and latitude\n",
    "what_we_want = r'<a href=\"(/ditie/map_\\d+\\.shtml)\" target=\"_blank\">(\\w+)</a></strong>'\n",
    "# what_we_want = r'<a href=\"(/ditie/map_\\d+\\.shtml)\" target='\n",
    "pattern2 = re.compile(what_we_want)\n",
    "lines = pattern2.findall(response.text)\n",
    "location_lists = defaultdict(list)\n",
    "for line_info in lines:\n",
    "    line_url = 'http://sh.bendibao.com/' + list(line_info)[0]\n",
    "    response = requests.get(line_url)\n",
    "    sub_url_info = bs(response.text,\"lxml\")\n",
    "    tmp_info = sub_url_info.find(id=\"frmMap\")\n",
    "    location_str = tmp_info.get('src')\n",
    "    location_list = re.findall(r'jd(\\d+)=(\\d+\\.\\d+)&wd\\d+=(\\d+.\\d+)',location_str)\n",
    "    location_lists[list(line_info)[1]] = location_list\n",
    "    \n",
    "#     print(list(line_info)[1])\n",
    "# print(len(location_lists))\n",
    "#     return location_lists\n",
    "print(location_lists['上海地铁10号线支线线路图'])\n",
    "# for k,v in location_lists.items():\n",
    "#     if k == '上海5号线支线线路图':\n",
    "#         print(location_lists[k])\n",
    "        "
   ]
  },
  {
   "cell_type": "code",
   "execution_count": null,
   "metadata": {
    "collapsed": true
   },
   "outputs": [],
   "source": []
  }
 ],
 "metadata": {
  "kernelspec": {
   "display_name": "Python [default]",
   "language": "python",
   "name": "python3"
  },
  "language_info": {
   "codemirror_mode": {
    "name": "ipython",
    "version": 3
   },
   "file_extension": ".py",
   "mimetype": "text/x-python",
   "name": "python",
   "nbconvert_exporter": "python",
   "pygments_lexer": "ipython3",
   "version": "3.6.3"
  }
 },
 "nbformat": 4,
 "nbformat_minor": 2
}
