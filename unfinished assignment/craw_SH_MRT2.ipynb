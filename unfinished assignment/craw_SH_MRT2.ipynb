{
 "cells": [
  {
   "cell_type": "code",
   "execution_count": 32,
   "metadata": {
    "scrolled": true
   },
   "outputs": [],
   "source": [
    "import requests \n",
    "import time\n",
    "from bs4 import BeautifulSoup as bs\n",
    "from urllib.error import URLError\n",
    "import re\n",
    "import networkx as nx\n",
    "import matplotlib.pyplot as plt\n",
    "from collections import defaultdict\n",
    "import os\n",
    "import ast\n",
    "plt.rcParams['font.sans-serif']=['SimHei']\n",
    "plt.rcParams['axes.unicode_minus']=False\n",
    "f = open('SH_MRT2.txt','r')\n",
    "l = f.read()\n",
    "l_loc = ast.literal_eval(l)\n",
    "f2 = open('SH_MRT_station.txt','r')\n",
    "l = f2.read()\n",
    "l_lines = ast.literal_eval(l)\n",
    "f.close()\n",
    "f2.close()\n",
    "# print(l_loc)\n",
    "# format l_loc\n",
    "station_location = {}\n",
    "for k,v in l_loc.items():\n",
    "    long ,lat = v\n",
    "    long, lat = float(long),float(lat)\n",
    "    station_location[k] = (long,lat)\n",
    "city_graph = nx.Graph()\n",
    "# print(list(station_location.keys()))\n",
    "city_graph.add_nodes_from(list(station_location.keys()))\n",
    "nx.draw(city_graph, station_location, with_labels=True, node_size=30)\n",
    "# for i,j in enumerate(line_test) :\n",
    "#     city_graph.add_nodes_from(j)\n",
    "# for i in range(len(line_test)):\n",
    "#     if i+1 == len(line_test):\n",
    "#         break\n",
    "#     city_graph.add_edge(line_test[i],line_test[i+1])\n",
    "# nx.draw(city_graph,with_labels=True, node_size=30)\n",
    "# simple_connection_info = defaultdict(list)\n",
    "# simple_connection_info.update(dict_lines)\n",
    "# simple_connection_info\n",
    "\n",
    "# for k, v in l_lines.items():\n",
    "#     for i,j in enumerate(v) :\n",
    "#         city_graph.add_nodes_from(v)\n",
    "#     for i in range(len(v)):\n",
    "#         if i+1 == len(v):\n",
    "#             break\n",
    "#         city_graph.add_edge(v[i],v[i+1])\n",
    "# nx.draw(city_graph,with_labels=True, node_size=30)"
   ]
  },
  {
   "cell_type": "code",
   "execution_count": null,
   "metadata": {
    "collapsed": true
   },
   "outputs": [],
   "source": []
  }
 ],
 "metadata": {
  "kernelspec": {
   "display_name": "Python [default]",
   "language": "python",
   "name": "python3"
  },
  "language_info": {
   "codemirror_mode": {
    "name": "ipython",
    "version": 3
   },
   "file_extension": ".py",
   "mimetype": "text/x-python",
   "name": "python",
   "nbconvert_exporter": "python",
   "pygments_lexer": "ipython3",
   "version": "3.6.3"
  }
 },
 "nbformat": 4,
 "nbformat_minor": 2
}
