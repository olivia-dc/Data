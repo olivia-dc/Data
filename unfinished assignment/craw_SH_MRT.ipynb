{
 "cells": [
  {
   "cell_type": "code",
   "execution_count": 31,
   "metadata": {
    "collapsed": true
   },
   "outputs": [],
   "source": [
    "import requests \n",
    "import time\n",
    "from bs4 import BeautifulSoup as bs\n",
    "from urllib.error import URLError\n",
    "import re\n",
    "import networkx as nx\n",
    "import matplotlib.pyplot as plt\n",
    "from collections import defaultdict\n",
    "import os\n",
    "plt.rcParams['font.sans-serif']=['SimHei']\n",
    "plt.rcParams['axes.unicode_minus']=False\n",
    "url = 'http://sh.bendibao.com/ditie/linemap.shtml'\n",
    "#get dict_lines ,each lines dict with station names\n",
    "response = requests.get(url)\n",
    "soup = bs(response.text,\"lxml\")\n",
    "soup_lines= soup.find_all(\"div\",class_=\"line-list\")\n",
    "dict_lines = {}\n",
    "for cont in soup_lines:\n",
    "    line_name = cont.find(\"a\",href=re.compile(\"ditie/map\")).get_text()\n",
    "    station = []\n",
    "    station_doc = cont.find_all('a',href=re.compile(\"/ditie/zd\"))\n",
    "    for cont_station in station_doc:\n",
    "        station.append(cont_station.get_text())\n",
    "    dict_lines[line_name] = station \n",
    "#get dict_lines_loc, each line with each dot longitude and latitude\n",
    "what_we_want = r'<a href=\"(/ditie/map_\\d+\\.shtml)\" target=\"_blank\">(\\w+)</a></strong>'\n",
    "pattern2 = re.compile(what_we_want)\n",
    "lines = pattern2.findall(response.text)\n",
    "dict_lines_loc = defaultdict(list)\n",
    "for line_info in lines:\n",
    "    line_url = 'http://sh.bendibao.com/' + list(line_info)[0]\n",
    "    response = requests.get(line_url)\n",
    "    sub_url_info = bs(response.text,\"lxml\")\n",
    "    tmp_info = sub_url_info.find(id=\"frmMap\")\n",
    "    location_str = tmp_info.get('src')\n",
    "    location_list = re.findall(r'jd(\\d+)=(\\d+\\.\\d+)&wd\\d+=(\\d+.\\d+)',location_str)\n",
    "    dict_lines_loc[list(line_info)[1]] = location_list\n",
    "f = open('SH_MRT_station.txt','w+')\n",
    "f.write(str(dict_lines))\n",
    "f.close()\n",
    "dict_lines_tmp = dict_lines['上海地铁9号线线路图']\n",
    "dict_lines_loc_tmp = dict_lines_loc['上海地铁9号线线路图']\n",
    "# some station have no longtitude and latitude\n",
    "dict_reloc = {}\n",
    "for k,v in dict_lines.items():\n",
    "    if len(dict_lines[k])==len(dict_lines_loc[k]) :\n",
    "        for i,j in enumerate(v):\n",
    "            dict_lines_loc[k][i] = list(dict_lines_loc[k][i])\n",
    "            dict_lines_loc[k][i][0] = dict_lines[k][i]\n",
    "            dict_reloc[dict_lines[k][i]] = dict_lines_loc[k][i][1:]\n",
    "    elif len(dict_lines[k]) > len(dict_lines_loc[k]) :\n",
    "        for i,j in enumerate(dict_lines_loc[k]):\n",
    "            m = int(dict_lines_loc[k][i][0])\n",
    "            dict_lines_loc[k][i] = list(dict_lines_loc[k][i])\n",
    "            dict_lines_loc[k][i][0] = dict_lines[k][m]\n",
    "            dict_reloc[dict_lines[k][m]] = tuple(dict_lines_loc[k][i][1:])\n",
    "    elif len(dict_lines_loc[k]) == 0 :\n",
    "        del dict_lines[k]\n",
    "        del dict_lines_loc[k]\n",
    "\n",
    "f = open('SH_MRT2.txt','w+')\n",
    "f.write(str(dict_reloc))\n",
    "f.close()\n"
   ]
  },
  {
   "cell_type": "code",
   "execution_count": null,
   "metadata": {
    "collapsed": true
   },
   "outputs": [],
   "source": []
  }
 ],
 "metadata": {
  "kernelspec": {
   "display_name": "Python [default]",
   "language": "python",
   "name": "python3"
  },
  "language_info": {
   "codemirror_mode": {
    "name": "ipython",
    "version": 3
   },
   "file_extension": ".py",
   "mimetype": "text/x-python",
   "name": "python",
   "nbconvert_exporter": "python",
   "pygments_lexer": "ipython3",
   "version": "3.6.3"
  }
 },
 "nbformat": 4,
 "nbformat_minor": 2
}
