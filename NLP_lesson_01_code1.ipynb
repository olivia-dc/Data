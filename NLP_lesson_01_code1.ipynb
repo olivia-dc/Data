{
 "cells": [
  {
   "cell_type": "code",
   "execution_count": 61,
   "metadata": {},
   "outputs": [
    {
     "data": {
      "text/plain": [
       "['i', 'like', 'to', 'eat', 'apples']"
      ]
     },
     "execution_count": 61,
     "metadata": {},
     "output_type": "execute_result"
    }
   ],
   "source": [
    "dataset_file = \"\"\"my friend makes the best raspberry pies in town\n",
    "i think apple pies are the best pies\n",
    "steve thinks apple makes the best computers in the world\n",
    "I own two computers and they’re not apple because I am not steve or rich \"\"\"\n",
    "model = {}\n",
    "# model = {'START': ['i', 'we', 'you'], 'i': ['like'], 'like': ['to'], 'to': ['eat'], 'you': ['eat'], 'we': ['eat'], 'eat': ['apples', 'oranges', 'apples'], 'END': ['apples', 'oranges', 'apples']}\n",
    "for line in dataset_file.split('\\n'):\n",
    "    line = line.lower().split()\n",
    "    for i, word in enumerate(line):\n",
    "#         print(i,word)\n",
    "#         print(line[i+1])\n",
    "#         print(model.get(word, []))\n",
    "        if i == len(line)-1:   \n",
    "            model['END'] = model.get('END', []) + [word]\n",
    "        else:    \n",
    "            if i == 0:\n",
    "                model['START'] = model.get('START', []) + [word]\n",
    "            model[word] = model.get(word, []) + [line[i+1]] \n",
    "generated = []\n",
    "while True:\n",
    "    if not generated:\n",
    "        words = model['START']\n",
    "    elif generated[-1] in model['END']:\n",
    "        break\n",
    "    else:\n",
    "        words = model[generated[-1]]\n",
    "    generated.append(random.choice(words))\n",
    "generated"
   ]
  },
  {
   "cell_type": "code",
   "execution_count": null,
   "metadata": {
    "collapsed": true
   },
   "outputs": [],
   "source": []
  },
  {
   "cell_type": "code",
   "execution_count": null,
   "metadata": {
    "collapsed": true
   },
   "outputs": [],
   "source": []
  },
  {
   "cell_type": "code",
   "execution_count": null,
   "metadata": {
    "collapsed": true
   },
   "outputs": [],
   "source": []
  },
  {
   "cell_type": "code",
   "execution_count": null,
   "metadata": {
    "collapsed": true
   },
   "outputs": [],
   "source": []
  }
 ],
 "metadata": {
  "kernelspec": {
   "display_name": "Python [conda root]",
   "language": "python",
   "name": "conda-root-py"
  },
  "language_info": {
   "codemirror_mode": {
    "name": "ipython",
    "version": 3
   },
   "file_extension": ".py",
   "mimetype": "text/x-python",
   "name": "python",
   "nbconvert_exporter": "python",
   "pygments_lexer": "ipython3",
   "version": "3.6.3"
  }
 },
 "nbformat": 4,
 "nbformat_minor": 2
}
